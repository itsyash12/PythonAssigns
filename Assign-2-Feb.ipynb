{
 "cells": [
  {
   "cell_type": "code",
   "execution_count": 2,
   "id": "e81987e6-bc24-4a93-bf80-499df7cdc957",
   "metadata": {},
   "outputs": [
    {
     "name": "stdout",
     "output_type": "stream",
     "text": [
      "0\n",
      "1\n",
      "2\n",
      "3\n",
      "4\n",
      "5\n",
      "6\n",
      "7\n",
      "8\n",
      "9\n",
      "10\n",
      "11\n",
      "12\n",
      "13\n",
      "14\n",
      "15\n",
      "16\n",
      "17\n",
      "18\n",
      "19\n",
      "0\n",
      "1\n",
      "2\n",
      "3\n",
      "4\n",
      "5\n",
      "6\n",
      "7\n",
      "8\n",
      "9\n",
      "10\n",
      "11\n",
      "12\n",
      "13\n",
      "14\n",
      "15\n",
      "16\n",
      "17\n",
      "18\n",
      "19\n"
     ]
    }
   ],
   "source": [
    "#Q1 Explain with an example each when to use a for loop and a while loop.\n",
    "\n",
    "''' for loop is used when we know the length of a data structure used (len function)\n",
    "    or the number of times the loop should run \n",
    "    \n",
    "    while loop is used until the given condition is true so when we want to loop untill\n",
    "    the condition doesnt get false we use while loop\n",
    "'''\n",
    "    \n",
    "    #for\n",
    "\n",
    "for i in range(0,20) : \n",
    "    print(i)\n",
    "\n",
    "    #while\n",
    "    \n",
    "j=0\n",
    "while j < 20 :\n",
    "    print(j)\n",
    "    j+=1\n"
   ]
  },
  {
   "cell_type": "code",
   "execution_count": 6,
   "id": "788beb3e-0c6f-4012-86a2-ed4dc1c4f115",
   "metadata": {},
   "outputs": [
    {
     "name": "stdout",
     "output_type": "stream",
     "text": [
      "55 3628800\n",
      "55 3628800\n"
     ]
    }
   ],
   "source": [
    "# Q2. Write a python program to print the sum and product of the first 10 natural numbers using for\n",
    "# and while loop.\n",
    "\n",
    "sum=0\n",
    "prod=1\n",
    "for i in range(1,11):\n",
    "    sum+=i\n",
    "    prod*=i\n",
    "\n",
    "print(sum,prod)\n",
    "\n",
    "sum1=0\n",
    "prod1=1\n",
    "i = 1\n",
    "\n",
    "while i < 11 : \n",
    "    sum1+=i\n",
    "    prod1*=i\n",
    "    i+=1\n",
    "    \n",
    "print(sum1,prod1)"
   ]
  },
  {
   "cell_type": "code",
   "execution_count": 13,
   "id": "9cb3b952-2a7c-493e-ad19-2a5ab7583feb",
   "metadata": {},
   "outputs": [
    {
     "name": "stdin",
     "output_type": "stream",
     "text": [
      "Enter units used 310\n"
     ]
    },
    {
     "name": "stdout",
     "output_type": "stream",
     "text": [
      "2250.0\n"
     ]
    }
   ],
   "source": [
    "''' Q3. Create a python program to compute the electricity bill for a household.\n",
    "\n",
    "The per-unit charges in rupees are as follows: For the first 100 units, the user will be charged \n",
    "Rs. 4.5 per unit, for the next 100 units, the user will be charged Rs. 6 per unit, \n",
    "and for the next 100 units, the user will be charged Rs. 10 per unit, \n",
    "After 300 units and above the user will be charged Rs. 20 per unit. '''\n",
    "\n",
    "units = int(input(\"Enter units used\"))\n",
    "bill = 0\n",
    "\n",
    "if units>300 :\n",
    "    bill  +=  (units-300)*20\n",
    "    units = 300\n",
    "if units > 200 :\n",
    "    bill += (units-200)*10\n",
    "    units = 200\n",
    "if units > 100 :\n",
    "    bill += (units-100)*6\n",
    "    units = 100\n",
    "if units > 0 :\n",
    "    bill =  float(bill) + units*4.5\n",
    "    \n",
    "print(bill)\n"
   ]
  },
  {
   "cell_type": "code",
   "execution_count": 19,
   "id": "ada3ce9a-92db-4c54-933b-d1479bbe9585",
   "metadata": {},
   "outputs": [
    {
     "name": "stdout",
     "output_type": "stream",
     "text": [
      "[8, 64, 125, 216, 512, 1000, 1000, 1728, 2744, 3375, 4096, 5832, 8000, 8000, 10648, 13824, 15625, 17576, 21952, 27000, 27000, 32768, 39304, 42875, 46656, 54872, 64000, 64000, 74088, 85184, 91125, 97336, 110592, 125000, 125000, 140608, 157464, 166375, 175616, 195112, 216000, 216000, 238328, 262144, 274625, 287496, 314432, 343000, 343000, 373248, 405224, 421875, 438976, 474552, 512000, 512000, 551368, 592704, 614125, 636056, 681472, 729000, 729000, 778688, 830584, 857375, 884736, 941192, 1000000, 1000000]\n",
      "[2, 4, 5, 6, 8, 10, 10, 12, 14, 15, 16, 18, 20, 20, 22, 24, 25, 26, 28, 30, 30, 32, 34, 35, 36, 38, 40, 40, 42, 44, 45, 46, 48, 50, 50, 52, 54, 55, 56, 58, 60, 60, 62, 64, 65, 66, 68, 70, 70, 72, 74, 75, 76, 78, 80, 80, 82, 84, 85, 86, 88, 90, 90, 92, 94, 95, 96, 98, 100, 100]\n",
      "[8, 64, 125, 216, 512, 1000, 1000, 1728, 2744, 3375, 4096, 5832, 8000, 8000, 10648, 13824, 15625, 17576, 21952, 27000, 27000, 32768, 39304, 42875, 46656, 54872, 64000, 64000, 74088, 85184, 91125, 97336, 110592, 125000, 125000, 140608, 157464, 166375, 175616, 195112, 216000, 216000, 238328, 262144, 274625, 287496, 314432, 343000, 343000, 373248, 405224, 421875, 438976, 474552, 512000, 512000, 551368, 592704, 614125, 636056, 681472, 729000, 729000, 778688, 830584, 857375, 884736, 941192, 1000000, 1000000]\n",
      "[2, 4, 5, 6, 8, 10, 10, 12, 14, 15, 16, 18, 20, 20, 22, 24, 25, 26, 28, 30, 30, 32, 34, 35, 36, 38, 40, 40, 42, 44, 45, 46, 48, 50, 50, 52, 54, 55, 56, 58, 60, 60, 62, 64, 65, 66, 68, 70, 70, 72, 74, 75, 76, 78, 80, 80, 82, 84, 85, 86, 88, 90, 90, 92, 94, 95, 96, 98, 100, 100]\n"
     ]
    }
   ],
   "source": [
    "# Q4. Create a list of numbers from 1 to 100. Use for loop and while loop to calculate the cube of each\n",
    "# number and if the cube of that number is divisible by 4 or 5 then append that number in a list and print\n",
    "# that list.\n",
    "\n",
    "cube = []\n",
    "number = []\n",
    "\n",
    "for i in range(1,101) :\n",
    "    if i&1==0 :\n",
    "        ans = i*i*i\n",
    "        cube.append(ans)\n",
    "        number.append(i)\n",
    "    \n",
    "    if i%5==0 :\n",
    "        ans = i*i*i\n",
    "        cube.append(ans)\n",
    "        number.append(i)\n",
    "    \n",
    "print(cube)\n",
    "print(number)\n",
    "\n",
    "cube1=[]\n",
    "number1=[]\n",
    "\n",
    "i=1\n",
    "while i < 101 :\n",
    "    if i&1==0 :\n",
    "        ans = i*i*i\n",
    "        cube1.append(ans)\n",
    "        number1.append(i)\n",
    "    \n",
    "    if i%5==0 :\n",
    "        ans = i*i*i\n",
    "        cube1.append(ans)\n",
    "        number1.append(i)\n",
    "    \n",
    "    i+=1\n",
    "    \n",
    "print(cube1)\n",
    "print(number1)\n",
    "    \n",
    "    \n",
    "\n"
   ]
  },
  {
   "cell_type": "code",
   "execution_count": null,
   "id": "b975fdcd-ea3e-4d8b-82f5-afcf458f594c",
   "metadata": {},
   "outputs": [],
   "source": [
    "# Q5. Write a program to filter count vowels in the below-given string.\n",
    "\n",
    "string = \"I want to become a data scientist\"\n",
    "\n",
    "for i in string :\n",
    "    if i=='a' or i==''or i=='' or i=='' or i==''\n",
    "\n"
   ]
  }
 ],
 "metadata": {
  "kernelspec": {
   "display_name": "Python 3 (ipykernel)",
   "language": "python",
   "name": "python3"
  },
  "language_info": {
   "codemirror_mode": {
    "name": "ipython",
    "version": 3
   },
   "file_extension": ".py",
   "mimetype": "text/x-python",
   "name": "python",
   "nbconvert_exporter": "python",
   "pygments_lexer": "ipython3",
   "version": "3.10.8"
  }
 },
 "nbformat": 4,
 "nbformat_minor": 5
}
